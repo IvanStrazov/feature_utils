{
 "cells": [
  {
   "cell_type": "markdown",
   "id": "476828bc-692f-461a-b5b4-2a055e4ced11",
   "metadata": {
    "tags": []
   },
   "source": [
    "# __How to use?__"
   ]
  },
  {
   "cell_type": "raw",
   "id": "c24ba675-485b-47b8-b6c1-d93309e19e1e",
   "metadata": {},
   "source": [
    "!python setup.py sdist"
   ]
  },
  {
   "cell_type": "raw",
   "id": "bba5e91b-62e8-4a89-8df7-41c7775e02b6",
   "metadata": {
    "tags": []
   },
   "source": [
    "!pip install dist/feature_utils-1.0.tar.gz"
   ]
  },
  {
   "cell_type": "code",
   "execution_count": 1,
   "id": "652a5af5-dc93-48da-972a-56bdc725fc62",
   "metadata": {},
   "outputs": [
    {
     "data": {
      "text/html": [
       "<div>\n",
       "<style scoped>\n",
       "    .dataframe tbody tr th:only-of-type {\n",
       "        vertical-align: middle;\n",
       "    }\n",
       "\n",
       "    .dataframe tbody tr th {\n",
       "        vertical-align: top;\n",
       "    }\n",
       "\n",
       "    .dataframe thead th {\n",
       "        text-align: right;\n",
       "    }\n",
       "</style>\n",
       "<table border=\"1\" class=\"dataframe\">\n",
       "  <thead>\n",
       "    <tr style=\"text-align: right;\">\n",
       "      <th></th>\n",
       "      <th>A</th>\n",
       "      <th>B</th>\n",
       "    </tr>\n",
       "  </thead>\n",
       "  <tbody>\n",
       "    <tr>\n",
       "      <th>0</th>\n",
       "      <td>0</td>\n",
       "      <td>a</td>\n",
       "    </tr>\n",
       "    <tr>\n",
       "      <th>1</th>\n",
       "      <td>1</td>\n",
       "      <td>a</td>\n",
       "    </tr>\n",
       "    <tr>\n",
       "      <th>2</th>\n",
       "      <td>1</td>\n",
       "      <td>b</td>\n",
       "    </tr>\n",
       "    <tr>\n",
       "      <th>3</th>\n",
       "      <td>2</td>\n",
       "      <td>c</td>\n",
       "    </tr>\n",
       "  </tbody>\n",
       "</table>\n",
       "</div>"
      ],
      "text/plain": [
       "   A  B\n",
       "0  0  a\n",
       "1  1  a\n",
       "2  1  b\n",
       "3  2  c"
      ]
     },
     "execution_count": 1,
     "metadata": {},
     "output_type": "execute_result"
    }
   ],
   "source": [
    "import pandas as pd\n",
    "\n",
    "df = pd.DataFrame({\"A\": [0,1,1,2], \"B\": [\"a\",\"a\",\"b\",\"c\"]})\n",
    "df"
   ]
  },
  {
   "cell_type": "code",
   "execution_count": 2,
   "id": "cb3ccb32-0edd-459c-b857-88118ce7fd2c",
   "metadata": {},
   "outputs": [
    {
     "data": {
      "text/html": [
       "<div>\n",
       "<style scoped>\n",
       "    .dataframe tbody tr th:only-of-type {\n",
       "        vertical-align: middle;\n",
       "    }\n",
       "\n",
       "    .dataframe tbody tr th {\n",
       "        vertical-align: top;\n",
       "    }\n",
       "\n",
       "    .dataframe thead th {\n",
       "        text-align: right;\n",
       "    }\n",
       "</style>\n",
       "<table border=\"1\" class=\"dataframe\">\n",
       "  <thead>\n",
       "    <tr style=\"text-align: right;\">\n",
       "      <th></th>\n",
       "      <th>A</th>\n",
       "      <th>B</th>\n",
       "      <th>tce_A_B_diff_abs_1</th>\n",
       "      <th>tce_A_B_std</th>\n",
       "      <th>tce_A_B_iqr_25_75</th>\n",
       "      <th>tce_A_B_last</th>\n",
       "      <th>tce_A_B_q_75</th>\n",
       "      <th>tce_A_B_median</th>\n",
       "      <th>tce_A_B_max</th>\n",
       "      <th>tce_A_B_min</th>\n",
       "      <th>tce_A_B_q_25</th>\n",
       "      <th>tce_A_B_mean</th>\n",
       "      <th>tce_A_B_first</th>\n",
       "    </tr>\n",
       "  </thead>\n",
       "  <tbody>\n",
       "    <tr>\n",
       "      <th>0</th>\n",
       "      <td>0</td>\n",
       "      <td>a</td>\n",
       "      <td>NaN</td>\n",
       "      <td>0.707107</td>\n",
       "      <td>0.5</td>\n",
       "      <td>1</td>\n",
       "      <td>0.75</td>\n",
       "      <td>0.5</td>\n",
       "      <td>1</td>\n",
       "      <td>0</td>\n",
       "      <td>0.25</td>\n",
       "      <td>0.5</td>\n",
       "      <td>0</td>\n",
       "    </tr>\n",
       "    <tr>\n",
       "      <th>1</th>\n",
       "      <td>1</td>\n",
       "      <td>a</td>\n",
       "      <td>1.0</td>\n",
       "      <td>0.707107</td>\n",
       "      <td>0.5</td>\n",
       "      <td>1</td>\n",
       "      <td>0.75</td>\n",
       "      <td>0.5</td>\n",
       "      <td>1</td>\n",
       "      <td>0</td>\n",
       "      <td>0.25</td>\n",
       "      <td>0.5</td>\n",
       "      <td>0</td>\n",
       "    </tr>\n",
       "    <tr>\n",
       "      <th>2</th>\n",
       "      <td>1</td>\n",
       "      <td>b</td>\n",
       "      <td>NaN</td>\n",
       "      <td>NaN</td>\n",
       "      <td>0.0</td>\n",
       "      <td>1</td>\n",
       "      <td>1.00</td>\n",
       "      <td>1.0</td>\n",
       "      <td>1</td>\n",
       "      <td>1</td>\n",
       "      <td>1.00</td>\n",
       "      <td>1.0</td>\n",
       "      <td>1</td>\n",
       "    </tr>\n",
       "    <tr>\n",
       "      <th>3</th>\n",
       "      <td>2</td>\n",
       "      <td>c</td>\n",
       "      <td>NaN</td>\n",
       "      <td>NaN</td>\n",
       "      <td>0.0</td>\n",
       "      <td>2</td>\n",
       "      <td>2.00</td>\n",
       "      <td>2.0</td>\n",
       "      <td>2</td>\n",
       "      <td>2</td>\n",
       "      <td>2.00</td>\n",
       "      <td>2.0</td>\n",
       "      <td>2</td>\n",
       "    </tr>\n",
       "  </tbody>\n",
       "</table>\n",
       "</div>"
      ],
      "text/plain": [
       "   A  B  tce_A_B_diff_abs_1  tce_A_B_std  tce_A_B_iqr_25_75  tce_A_B_last  \\\n",
       "0  0  a                 NaN     0.707107                0.5             1   \n",
       "1  1  a                 1.0     0.707107                0.5             1   \n",
       "2  1  b                 NaN          NaN                0.0             1   \n",
       "3  2  c                 NaN          NaN                0.0             2   \n",
       "\n",
       "   tce_A_B_q_75  tce_A_B_median  tce_A_B_max  tce_A_B_min  tce_A_B_q_25  \\\n",
       "0          0.75             0.5            1            0          0.25   \n",
       "1          0.75             0.5            1            0          0.25   \n",
       "2          1.00             1.0            1            1          1.00   \n",
       "3          2.00             2.0            2            2          2.00   \n",
       "\n",
       "   tce_A_B_mean  tce_A_B_first  \n",
       "0           0.5              0  \n",
       "1           0.5              0  \n",
       "2           1.0              1  \n",
       "3           2.0              2  "
      ]
     },
     "execution_count": 2,
     "metadata": {},
     "output_type": "execute_result"
    }
   ],
   "source": [
    "from feature_utils import FeatureMaker\n",
    "\n",
    "fm = FeatureMaker()\n",
    "fm.target_cat_encode(df, [\"B\"], [\"A\"], [\"mean\", \"q_25\", \"classic\", \"classic_ts\", \"diff_abs_1\", \"iqr_25_75\"])"
   ]
  }
 ],
 "metadata": {
  "kernelspec": {
   "display_name": "Python 3 (ipykernel)",
   "language": "python",
   "name": "python3"
  },
  "language_info": {
   "codemirror_mode": {
    "name": "ipython",
    "version": 3
   },
   "file_extension": ".py",
   "mimetype": "text/x-python",
   "name": "python",
   "nbconvert_exporter": "python",
   "pygments_lexer": "ipython3",
   "version": "3.10.0"
  }
 },
 "nbformat": 4,
 "nbformat_minor": 5
}
